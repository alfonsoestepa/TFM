{
 "cells": [
  {
   "cell_type": "markdown",
   "source": [
    "## ANALISIS EXPLORATORIO DE LOS DATOS.\n",
    "\n",
    "Diccionario de datos:\n",
    "\n",
    "* **step**: este campo es una unidad de tiempo en el mundo real. En este caso, un paso es 1 hora de tiempo. El total de pasos es 744 (31 días).\n",
    "* **type**: ingreso de dinero (CASH_IN), retirada de dinero (CASH_OUT), tarjeta de débito (DEBIT), pago (PAYMENT) y transferencia (TRANSFER).\n",
    "* **amount**: cantidad de la transacción en moneda local.\n",
    "* **nameOrig**: cliente que inició la transacción.\n",
    "* **oldbalanceOrg**: saldo del cliente antes de la transacción.\n",
    "* **newbalanceOrig**: saldo del cliente después de la transacción.\n",
    "* **nameDest**: destinatario de la transacción.\n",
    "* **oldbalanceDest**: saldo inicial del destinatario antes de la transacción. Hay que tener en cuenta que no hay información para los clientes que comienzan con M (Comerciantes).\n",
    "* **newbalanceDest**: saldo del destinatario después de la transacción. Tenga en cuenta que no hay información para los clientes que comienzan con M (Comerciantes).\n",
    "* **isFraud**: son las transacciones realizadas por agentes fraudulentos dentro de la simulación. En este conjunto de datos en particular, el comportamiento fraudulento de los agentes tiene como objetivo obtener ganancias al tomar el control de las cuentas de los clientes e intentar vaciar los fondos transfiriéndolos a otra cuenta y luego retirándolos del sistema.\n",
    "* **isFlaggedFraud**: el modelo de negocio tiene como objetivo controlar las transferencias masivas de una cuenta a otra y marcar los intentos ilegales. Un intento ilegal en este conjunto de datos es un intento de transferir más de 200.000 de una sola vez."
   ],
   "metadata": {
    "collapsed": false,
    "pycharm": {
     "name": "#%% md\n"
    }
   }
  },
  {
   "cell_type": "code",
   "execution_count": 1,
   "outputs": [
    {
     "name": "stderr",
     "output_type": "stream",
     "text": [
      "WARNING: An illegal reflective access operation has occurred\n",
      "WARNING: Illegal reflective access by org.apache.spark.unsafe.Platform (file:/opt/anaconda3/envs/tfm/lib/python3.8/site-packages/pyspark/jars/spark-unsafe_2.12-3.2.1.jar) to constructor java.nio.DirectByteBuffer(long,int)\n",
      "WARNING: Please consider reporting this to the maintainers of org.apache.spark.unsafe.Platform\n",
      "WARNING: Use --illegal-access=warn to enable warnings of further illegal reflective access operations\n",
      "WARNING: All illegal access operations will be denied in a future release\n",
      "Using Spark's default log4j profile: org/apache/spark/log4j-defaults.properties\n",
      "Setting default log level to \"WARN\".\n",
      "To adjust logging level use sc.setLogLevel(newLevel). For SparkR, use setLogLevel(newLevel).\n",
      "22/05/22 19:00:18 WARN NativeCodeLoader: Unable to load native-hadoop library for your platform... using builtin-java classes where applicable\n"
     ]
    }
   ],
   "source": [
    "import math\n",
    "\n",
    "import matplotlib.pyplot as plt\n",
    "import seaborn as sns\n",
    "\n",
    "from pyspark import SparkConf\n",
    "from pyspark import SparkContext\n",
    "from pyspark.ml.feature import VectorAssembler\n",
    "from pyspark.ml.stat import Correlation\n",
    "from pyspark.sql import SparkSession\n",
    "from pyspark.sql.functions import col, when, count, isnan\n",
    "\n",
    "plt.rcParams['figure.figsize'] = (15, 15)\n",
    "\n",
    "if not ((\"sc\" in globals()) or (\"sc\" in locals())):\n",
    "    conf=SparkConf()\n",
    "    conf.set(\"spark.driver.memory\", \"16g\")\n",
    "    sc = SparkContext.getOrCreate(conf)\n",
    "spark = SparkSession(sc)"
   ],
   "metadata": {
    "collapsed": false,
    "pycharm": {
     "name": "#%%\n"
    }
   }
  },
  {
   "cell_type": "code",
   "execution_count": 2,
   "outputs": [
    {
     "name": "stderr",
     "output_type": "stream",
     "text": [
      "                                                                                \r"
     ]
    },
    {
     "name": "stdout",
     "output_type": "stream",
     "text": [
      "+----+--------+--------+-----------+-------------+--------------+-----------+--------------+--------------+-------+--------------+\n",
      "|step|    type|  amount|   nameOrig|oldbalanceOrg|newbalanceOrig|   nameDest|oldbalanceDest|newbalanceDest|isFraud|isFlaggedFraud|\n",
      "+----+--------+--------+-----------+-------------+--------------+-----------+--------------+--------------+-------+--------------+\n",
      "|   1| PAYMENT| 9839.64|C1231006815|     170136.0|     160296.36|M1979787155|           0.0|           0.0|      0|             0|\n",
      "|   1| PAYMENT| 1864.28|C1666544295|      21249.0|      19384.72|M2044282225|           0.0|           0.0|      0|             0|\n",
      "|   1|TRANSFER|   181.0|C1305486145|        181.0|           0.0| C553264065|           0.0|           0.0|      1|             0|\n",
      "|   1|CASH_OUT|   181.0| C840083671|        181.0|           0.0|  C38997010|       21182.0|           0.0|      1|             0|\n",
      "|   1| PAYMENT|11668.14|C2048537720|      41554.0|      29885.86|M1230701703|           0.0|           0.0|      0|             0|\n",
      "+----+--------+--------+-----------+-------------+--------------+-----------+--------------+--------------+-------+--------------+\n",
      "only showing top 5 rows\n",
      "\n"
     ]
    }
   ],
   "source": [
    "df = spark.\\\n",
    "    read.\\\n",
    "    parquet(\"fraud2.parquet\")\n",
    "\n",
    "df.show(5)"
   ],
   "metadata": {
    "collapsed": false,
    "pycharm": {
     "name": "#%%\n"
    }
   }
  },
  {
   "cell_type": "code",
   "execution_count": 3,
   "outputs": [
    {
     "name": "stdout",
     "output_type": "stream",
     "text": [
      "root\n",
      " |-- step: long (nullable = true)\n",
      " |-- type: string (nullable = true)\n",
      " |-- amount: double (nullable = true)\n",
      " |-- nameOrig: string (nullable = true)\n",
      " |-- oldbalanceOrg: double (nullable = true)\n",
      " |-- newbalanceOrig: double (nullable = true)\n",
      " |-- nameDest: string (nullable = true)\n",
      " |-- oldbalanceDest: double (nullable = true)\n",
      " |-- newbalanceDest: double (nullable = true)\n",
      " |-- isFraud: long (nullable = true)\n",
      " |-- isFlaggedFraud: long (nullable = true)\n",
      "\n"
     ]
    }
   ],
   "source": [
    "df.printSchema()"
   ],
   "metadata": {
    "collapsed": false,
    "pycharm": {
     "name": "#%%\n"
    }
   }
  },
  {
   "cell_type": "markdown",
   "source": [
    "La variable que queremos predecir es `isFraud` y el resto de variables caracterizan las transacciones."
   ],
   "metadata": {
    "collapsed": false,
    "pycharm": {
     "name": "#%% md\n"
    }
   }
  },
  {
   "cell_type": "code",
   "execution_count": 4,
   "outputs": [
    {
     "name": "stderr",
     "output_type": "stream",
     "text": [
      "                                                                                \r"
     ]
    },
    {
     "data": {
      "text/plain": "                      0                     1                     2  \\\nsummary           count                  mean                stddev   \nstep            6362620    243.39724563151657     142.3319710491244   \ntype            6362620                  None                  None   \namount          6362620    179861.90354912292     603858.2314629285   \nnameOrig        6362620                  None                  None   \noldbalanceOrg   6362620     833883.1040744851    2888242.6730375285   \nnewbalanceOrig  6362620     855113.6685785672    2924048.5029542595   \nnameDest        6362620                  None                  None   \noldbalanceDest  6362620    1100701.6665196999    3399180.1129945437   \nnewbalanceDest  6362620    1224996.3982020712    3674128.9421197013   \nisFraud         6362620  0.001290820448180152  0.035904796801603175   \nisFlaggedFraud  6362620   2.51468734577894E-6  0.001585774705736558   \n\n                          3         4          5           6               7  \nsummary                 min       25%        50%         75%             max  \nstep                      1       156        239         335             743  \ntype                CASH_IN      None       None        None        TRANSFER  \namount                  0.0  13383.63   74864.38    208720.6   9.244551664E7  \nnameOrig        C1000000639      None       None        None      C999999784  \noldbalanceOrg           0.0       0.0    14216.6    107288.0   5.958504037E7  \nnewbalanceOrig          0.0       0.0        0.0   144212.66   4.958504037E7  \nnameDest        C1000004082      None       None        None      M999999784  \noldbalanceDest          0.0       0.0  132612.49    942582.7  3.5601588935E8  \nnewbalanceDest          0.0       0.0  214605.81  1111611.51  3.5617927892E8  \nisFraud                   0         0          0           0               1  \nisFlaggedFraud            0         0          0           0               1  ",
      "text/html": "<div>\n<style scoped>\n    .dataframe tbody tr th:only-of-type {\n        vertical-align: middle;\n    }\n\n    .dataframe tbody tr th {\n        vertical-align: top;\n    }\n\n    .dataframe thead th {\n        text-align: right;\n    }\n</style>\n<table border=\"1\" class=\"dataframe\">\n  <thead>\n    <tr style=\"text-align: right;\">\n      <th></th>\n      <th>0</th>\n      <th>1</th>\n      <th>2</th>\n      <th>3</th>\n      <th>4</th>\n      <th>5</th>\n      <th>6</th>\n      <th>7</th>\n    </tr>\n  </thead>\n  <tbody>\n    <tr>\n      <th>summary</th>\n      <td>count</td>\n      <td>mean</td>\n      <td>stddev</td>\n      <td>min</td>\n      <td>25%</td>\n      <td>50%</td>\n      <td>75%</td>\n      <td>max</td>\n    </tr>\n    <tr>\n      <th>step</th>\n      <td>6362620</td>\n      <td>243.39724563151657</td>\n      <td>142.3319710491244</td>\n      <td>1</td>\n      <td>156</td>\n      <td>239</td>\n      <td>335</td>\n      <td>743</td>\n    </tr>\n    <tr>\n      <th>type</th>\n      <td>6362620</td>\n      <td>None</td>\n      <td>None</td>\n      <td>CASH_IN</td>\n      <td>None</td>\n      <td>None</td>\n      <td>None</td>\n      <td>TRANSFER</td>\n    </tr>\n    <tr>\n      <th>amount</th>\n      <td>6362620</td>\n      <td>179861.90354912292</td>\n      <td>603858.2314629285</td>\n      <td>0.0</td>\n      <td>13383.63</td>\n      <td>74864.38</td>\n      <td>208720.6</td>\n      <td>9.244551664E7</td>\n    </tr>\n    <tr>\n      <th>nameOrig</th>\n      <td>6362620</td>\n      <td>None</td>\n      <td>None</td>\n      <td>C1000000639</td>\n      <td>None</td>\n      <td>None</td>\n      <td>None</td>\n      <td>C999999784</td>\n    </tr>\n    <tr>\n      <th>oldbalanceOrg</th>\n      <td>6362620</td>\n      <td>833883.1040744851</td>\n      <td>2888242.6730375285</td>\n      <td>0.0</td>\n      <td>0.0</td>\n      <td>14216.6</td>\n      <td>107288.0</td>\n      <td>5.958504037E7</td>\n    </tr>\n    <tr>\n      <th>newbalanceOrig</th>\n      <td>6362620</td>\n      <td>855113.6685785672</td>\n      <td>2924048.5029542595</td>\n      <td>0.0</td>\n      <td>0.0</td>\n      <td>0.0</td>\n      <td>144212.66</td>\n      <td>4.958504037E7</td>\n    </tr>\n    <tr>\n      <th>nameDest</th>\n      <td>6362620</td>\n      <td>None</td>\n      <td>None</td>\n      <td>C1000004082</td>\n      <td>None</td>\n      <td>None</td>\n      <td>None</td>\n      <td>M999999784</td>\n    </tr>\n    <tr>\n      <th>oldbalanceDest</th>\n      <td>6362620</td>\n      <td>1100701.6665196999</td>\n      <td>3399180.1129945437</td>\n      <td>0.0</td>\n      <td>0.0</td>\n      <td>132612.49</td>\n      <td>942582.7</td>\n      <td>3.5601588935E8</td>\n    </tr>\n    <tr>\n      <th>newbalanceDest</th>\n      <td>6362620</td>\n      <td>1224996.3982020712</td>\n      <td>3674128.9421197013</td>\n      <td>0.0</td>\n      <td>0.0</td>\n      <td>214605.81</td>\n      <td>1111611.51</td>\n      <td>3.5617927892E8</td>\n    </tr>\n    <tr>\n      <th>isFraud</th>\n      <td>6362620</td>\n      <td>0.001290820448180152</td>\n      <td>0.035904796801603175</td>\n      <td>0</td>\n      <td>0</td>\n      <td>0</td>\n      <td>0</td>\n      <td>1</td>\n    </tr>\n    <tr>\n      <th>isFlaggedFraud</th>\n      <td>6362620</td>\n      <td>2.51468734577894E-6</td>\n      <td>0.001585774705736558</td>\n      <td>0</td>\n      <td>0</td>\n      <td>0</td>\n      <td>0</td>\n      <td>1</td>\n    </tr>\n  </tbody>\n</table>\n</div>"
     },
     "execution_count": 4,
     "metadata": {},
     "output_type": "execute_result"
    }
   ],
   "source": [
    "df.summary().toPandas().T"
   ],
   "metadata": {
    "collapsed": false,
    "pycharm": {
     "name": "#%%\n"
    }
   }
  },
  {
   "cell_type": "markdown",
   "source": [
    "Como se puede observar hay más de 6,3 millones de registros. El importe de la transferencia media es de 179.861,9 con una desviación típica de 603.858,2."
   ],
   "metadata": {
    "collapsed": false,
    "pycharm": {
     "name": "#%% md\n"
    }
   }
  },
  {
   "cell_type": "code",
   "execution_count": 5,
   "outputs": [
    {
     "name": "stderr",
     "output_type": "stream",
     "text": [
      "                                                                                \r"
     ]
    },
    {
     "data": {
      "text/plain": "6353307"
     },
     "execution_count": 5,
     "metadata": {},
     "output_type": "execute_result"
    }
   ],
   "source": [
    "df.select(\"nameOrig\").distinct().count()"
   ],
   "metadata": {
    "collapsed": false,
    "pycharm": {
     "name": "#%%\n"
    }
   }
  },
  {
   "cell_type": "code",
   "execution_count": 6,
   "outputs": [
    {
     "name": "stderr",
     "output_type": "stream",
     "text": [
      "                                                                                \r"
     ]
    },
    {
     "data": {
      "text/plain": "2722362"
     },
     "execution_count": 6,
     "metadata": {},
     "output_type": "execute_result"
    }
   ],
   "source": [
    "df.select(\"nameDest\").distinct().count()"
   ],
   "metadata": {
    "collapsed": false,
    "pycharm": {
     "name": "#%%\n"
    }
   }
  },
  {
   "cell_type": "markdown",
   "source": [
    "Se puede observar que hay 6.353.307 clientes distintos haciendo transferencias y 2.722.362 de destinatarios de transferencias."
   ],
   "metadata": {
    "collapsed": false,
    "pycharm": {
     "name": "#%% md\n"
    }
   }
  },
  {
   "cell_type": "markdown",
   "source": [
    "Para facilitarnos el análisis, vamos a crear una nueva columna que nos va a ayudar durante el analisis de datos, para aquellos clientes que son comerciantes (Es decir, el nombre empieza por \"M\"). Esta columna no la alimentaremos al modelo en fases posteriores."
   ],
   "metadata": {
    "collapsed": false,
    "pycharm": {
     "name": "#%% md\n"
    }
   }
  },
  {
   "cell_type": "code",
   "execution_count": 7,
   "outputs": [
    {
     "name": "stderr",
     "output_type": "stream",
     "text": [
      "[Stage 19:===========================================>              (3 + 1) / 4]\r"
     ]
    },
    {
     "name": "stdout",
     "output_type": "stream",
     "text": [
      "+----+--------+---------+-----------+-------------+--------------+-----------+--------------+--------------+-------+--------------+----------+\n",
      "|step|    type|   amount|   nameOrig|oldbalanceOrg|newbalanceOrig|   nameDest|oldbalanceDest|newbalanceDest|isFraud|isFlaggedFraud|isMerchant|\n",
      "+----+--------+---------+-----------+-------------+--------------+-----------+--------------+--------------+-------+--------------+----------+\n",
      "|   1| PAYMENT|  9839.64|C1231006815|     170136.0|     160296.36|M1979787155|           0.0|           0.0|      0|             0|      true|\n",
      "|   1| PAYMENT|  1864.28|C1666544295|      21249.0|      19384.72|M2044282225|           0.0|           0.0|      0|             0|      true|\n",
      "|   1|TRANSFER|    181.0|C1305486145|        181.0|           0.0| C553264065|           0.0|           0.0|      1|             0|     false|\n",
      "|   1|CASH_OUT|    181.0| C840083671|        181.0|           0.0|  C38997010|       21182.0|           0.0|      1|             0|     false|\n",
      "|   1| PAYMENT| 11668.14|C2048537720|      41554.0|      29885.86|M1230701703|           0.0|           0.0|      0|             0|      true|\n",
      "|   1| PAYMENT|  7817.71|  C90045638|      53860.0|      46042.29| M573487274|           0.0|           0.0|      0|             0|      true|\n",
      "|   1| PAYMENT|  7107.77| C154988899|     183195.0|     176087.23| M408069119|           0.0|           0.0|      0|             0|      true|\n",
      "|   1| PAYMENT|  7861.64|C1912850431|    176087.23|     168225.59| M633326333|           0.0|           0.0|      0|             0|      true|\n",
      "|   1| PAYMENT|  4024.36|C1265012928|       2671.0|           0.0|M1176932104|           0.0|           0.0|      0|             0|      true|\n",
      "|   1|   DEBIT|  5337.77| C712410124|      41720.0|      36382.23| C195600860|       41898.0|      40348.79|      0|             0|     false|\n",
      "|   1|   DEBIT|  9644.94|C1900366749|       4465.0|           0.0| C997608398|       10845.0|     157982.12|      0|             0|     false|\n",
      "|   1| PAYMENT|  3099.97| C249177573|      20771.0|      17671.03|M2096539129|           0.0|           0.0|      0|             0|      true|\n",
      "|   1| PAYMENT|  2560.74|C1648232591|       5070.0|       2509.26| M972865270|           0.0|           0.0|      0|             0|      true|\n",
      "|   1| PAYMENT| 11633.76|C1716932897|      10127.0|           0.0| M801569151|           0.0|           0.0|      0|             0|      true|\n",
      "|   1| PAYMENT|  4098.78|C1026483832|     503264.0|     499165.22|M1635378213|           0.0|           0.0|      0|             0|      true|\n",
      "|   1|CASH_OUT|229133.94| C905080434|      15325.0|           0.0| C476402209|        5083.0|      51513.44|      0|             0|     false|\n",
      "|   1| PAYMENT|  1563.82| C761750706|        450.0|           0.0|M1731217984|           0.0|           0.0|      0|             0|      true|\n",
      "|   1| PAYMENT|  1157.86|C1237762639|      21156.0|      19998.14|M1877062907|           0.0|           0.0|      0|             0|      true|\n",
      "|   1| PAYMENT|   671.64|C2033524545|      15123.0|      14451.36| M473053293|           0.0|           0.0|      0|             0|      true|\n",
      "|   1|TRANSFER| 215310.3|C1670993182|        705.0|           0.0|C1100439041|       22425.0|           0.0|      0|             0|     false|\n",
      "+----+--------+---------+-----------+-------------+--------------+-----------+--------------+--------------+-------+--------------+----------+\n",
      "only showing top 20 rows\n",
      "\n"
     ]
    },
    {
     "name": "stderr",
     "output_type": "stream",
     "text": [
      "                                                                                \r"
     ]
    }
   ],
   "source": [
    "df = df.withColumn(\"isMerchant\", when(df.nameDest.startswith(\"M\"), True).otherwise(False))\n",
    "\n",
    "df.show()"
   ],
   "metadata": {
    "collapsed": false,
    "pycharm": {
     "name": "#%%\n"
    }
   }
  },
  {
   "cell_type": "code",
   "execution_count": 9,
   "outputs": [
    {
     "name": "stderr",
     "output_type": "stream",
     "text": [
      "[Stage 20:==================================================>       (7 + 1) / 8]\r"
     ]
    },
    {
     "name": "stdout",
     "output_type": "stream",
     "text": [
      "+----+----+------+--------+-------------+--------------+--------+--------------+--------------+-------+--------------+----------+\n",
      "|step|type|amount|nameOrig|oldbalanceOrg|newbalanceOrig|nameDest|oldbalanceDest|newbalanceDest|isFraud|isFlaggedFraud|isMerchant|\n",
      "+----+----+------+--------+-------------+--------------+--------+--------------+--------------+-------+--------------+----------+\n",
      "|   0|   0|     0|       0|            0|             0|       0|             0|             0|      0|             0|         0|\n",
      "+----+----+------+--------+-------------+--------------+--------+--------------+--------------+-------+--------------+----------+\n",
      "\n"
     ]
    },
    {
     "name": "stderr",
     "output_type": "stream",
     "text": [
      "                                                                                \r"
     ]
    }
   ],
   "source": [
    "df.select([count(when(col(c).isNull(), c)).alias(c) for c in df.columns]).show()"
   ],
   "metadata": {
    "collapsed": false,
    "pycharm": {
     "name": "#%%\n"
    }
   }
  },
  {
   "cell_type": "markdown",
   "source": [
    "Podemos observar que no hay valores nulos en el dataset."
   ],
   "metadata": {
    "collapsed": false,
    "pycharm": {
     "name": "#%% md\n"
    }
   }
  },
  {
   "cell_type": "code",
   "execution_count": 10,
   "outputs": [],
   "source": [
    "def plot_histogram (df, num_bins = 20):\n",
    "    num_columns = math.floor(math.sqrt(len(df.columns)))\n",
    "    num_rows = math.ceil(math.sqrt(len(df.columns)))\n",
    "    i = 1\n",
    "    for x in df.columns:\n",
    "        plt.subplot(num_rows, num_columns, i)\n",
    "        plt.title(x)\n",
    "        if df.schema[x].dataType.typeName() == \"string\":\n",
    "            group_df = df.groupby(x).count()\n",
    "            x =group_df.select(x).toPandas().values.reshape(-1)\n",
    "            height =group_df.select(\"count\").toPandas().values.reshape(-1)\n",
    "            if group_df.count() < num_bins:\n",
    "                plt.bar(x, height)\n",
    "        else:\n",
    "            bins, counts = df.select(x).rdd.flatMap(lambda x: x).histogram(num_bins)\n",
    "            plt.hist(bins[:-1], bins=bins, weights=counts)\n",
    "        i += 1"
   ],
   "metadata": {
    "collapsed": false,
    "pycharm": {
     "name": "#%%\n"
    }
   }
  },
  {
   "cell_type": "code",
   "execution_count": 11,
   "outputs": [
    {
     "name": "stderr",
     "output_type": "stream",
     "text": [
      "                                                                                \r"
     ]
    },
    {
     "data": {
      "text/plain": "<Figure size 432x288 with 12 Axes>",
      "image/png": "[encoded data removed]"
     },
     "metadata": {
      "needs_background": "light"
     },
     "output_type": "display_data"
    }
   ],
   "source": [
    "plot_histogram(df)"
   ],
   "metadata": {
    "collapsed": false,
    "pycharm": {
     "name": "#%%\n"
    }
   }
  },
  {
   "cell_type": "markdown",
   "source": [
    "Aqui ya podemos ver que existe un importante desbalanceo entre las transacciones lícitas y las fraudulentas."
   ],
   "metadata": {
    "collapsed": false,
    "pycharm": {
     "name": "#%% md\n"
    }
   }
  },
  {
   "cell_type": "code",
   "execution_count": 12,
   "outputs": [
    {
     "name": "stdout",
     "output_type": "stream",
     "text": [
      "+-------+-------+\n",
      "|isFraud|  count|\n",
      "+-------+-------+\n",
      "|      0|6354407|\n",
      "|      1|   8213|\n",
      "+-------+-------+\n",
      "\n"
     ]
    },
    {
     "name": "stderr",
     "output_type": "stream",
     "text": [
      "                                                                                \r"
     ]
    }
   ],
   "source": [
    "df.groupby(\"isFraud\").count().show()"
   ],
   "metadata": {
    "collapsed": false,
    "pycharm": {
     "name": "#%%\n"
    }
   }
  },
  {
   "cell_type": "markdown",
   "source": [
    "Estamos ante un dataset que esta muy desbalanceado. Este hecho habrá que tenerlo en cuenta durante todo el proyecto. Por el momento vamos a estudiar ambas clases por separado."
   ],
   "metadata": {
    "collapsed": false,
    "pycharm": {
     "name": "#%% md\n"
    }
   }
  },
  {
   "cell_type": "code",
   "execution_count": 13,
   "outputs": [],
   "source": [
    "fraud_df = df.where(df.isFraud == 1)\n",
    "no_fraud_df = df.where(df.isFraud == 0)"
   ],
   "metadata": {
    "collapsed": false,
    "pycharm": {
     "name": "#%%\n"
    }
   }
  },
  {
   "cell_type": "code",
   "execution_count": 14,
   "outputs": [
    {
     "name": "stderr",
     "output_type": "stream",
     "text": [
      "                                                                                \r"
     ]
    },
    {
     "data": {
      "text/plain": "                    0                      1                     2  \\\nsummary         count                   mean                stddev   \nstep             8213      368.4138560818215    216.38869034045004   \ntype             8213                   None                  None   \namount           8213      1467967.299140387     2404252.947240167   \nnameOrig         8213                   None                  None   \noldbalanceOrg    8213     1649667.6057116783    3547719.4391091308   \nnewbalanceOrig   8213     192392.63183611343     1965666.455719133   \nnameDest         8213                   None                  None   \noldbalanceDest   8213      544249.6190746377    3336420.9509249586   \nnewbalanceDest   8213     1279707.6171459865     3908816.533815755   \nisFraud          8213                    1.0                   0.0   \nisFlaggedFraud   8213  0.0019481310118105442  0.044097307911070686   \n\n                          3          4          5           6               7  \nsummary                 min        25%        50%         75%             max  \nstep                      1        181        367         558             743  \ntype               CASH_OUT       None       None        None        TRANSFER  \namount                  0.0  127018.14  440962.56  1517771.48           1.0E7  \nnameOrig        C1000036340       None       None        None       C99979309  \noldbalanceOrg           0.0  125464.46  438983.45  1517771.48   5.958504037E7  \nnewbalanceOrig          0.0        0.0        0.0         0.0   4.958504037E7  \nnameDest        C1000039615       None       None        None      C999955448  \noldbalanceDest          0.0        0.0        0.0   147582.41  2.3623051682E8  \nnewbalanceDest          0.0        0.0    4555.92  1057953.31  2.3672649466E8  \nisFraud                   1          1          1           1               1  \nisFlaggedFraud            0          0          0           0               1  ",
      "text/html": "<div>\n<style scoped>\n    .dataframe tbody tr th:only-of-type {\n        vertical-align: middle;\n    }\n\n    .dataframe tbody tr th {\n        vertical-align: top;\n    }\n\n    .dataframe thead th {\n        text-align: right;\n    }\n</style>\n<table border=\"1\" class=\"dataframe\">\n  <thead>\n    <tr style=\"text-align: right;\">\n      <th></th>\n      <th>0</th>\n      <th>1</th>\n      <th>2</th>\n      <th>3</th>\n      <th>4</th>\n      <th>5</th>\n      <th>6</th>\n      <th>7</th>\n    </tr>\n  </thead>\n  <tbody>\n    <tr>\n      <th>summary</th>\n      <td>count</td>\n      <td>mean</td>\n      <td>stddev</td>\n      <td>min</td>\n      <td>25%</td>\n      <td>50%</td>\n      <td>75%</td>\n      <td>max</td>\n    </tr>\n    <tr>\n      <th>step</th>\n      <td>8213</td>\n      <td>368.4138560818215</td>\n      <td>216.38869034045004</td>\n      <td>1</td>\n      <td>181</td>\n      <td>367</td>\n      <td>558</td>\n      <td>743</td>\n    </tr>\n    <tr>\n      <th>type</th>\n      <td>8213</td>\n      <td>None</td>\n      <td>None</td>\n      <td>CASH_OUT</td>\n      <td>None</td>\n      <td>None</td>\n      <td>None</td>\n      <td>TRANSFER</td>\n    </tr>\n    <tr>\n      <th>amount</th>\n      <td>8213</td>\n      <td>1467967.299140387</td>\n      <td>2404252.947240167</td>\n      <td>0.0</td>\n      <td>127018.14</td>\n      <td>440962.56</td>\n      <td>1517771.48</td>\n      <td>1.0E7</td>\n    </tr>\n    <tr>\n      <th>nameOrig</th>\n      <td>8213</td>\n      <td>None</td>\n      <td>None</td>\n      <td>C1000036340</td>\n      <td>None</td>\n      <td>None</td>\n      <td>None</td>\n      <td>C99979309</td>\n    </tr>\n    <tr>\n      <th>oldbalanceOrg</th>\n      <td>8213</td>\n      <td>1649667.6057116783</td>\n      <td>3547719.4391091308</td>\n      <td>0.0</td>\n      <td>125464.46</td>\n      <td>438983.45</td>\n      <td>1517771.48</td>\n      <td>5.958504037E7</td>\n    </tr>\n    <tr>\n      <th>newbalanceOrig</th>\n      <td>8213</td>\n      <td>192392.63183611343</td>\n      <td>1965666.455719133</td>\n      <td>0.0</td>\n      <td>0.0</td>\n      <td>0.0</td>\n      <td>0.0</td>\n      <td>4.958504037E7</td>\n    </tr>\n    <tr>\n      <th>nameDest</th>\n      <td>8213</td>\n      <td>None</td>\n      <td>None</td>\n      <td>C1000039615</td>\n      <td>None</td>\n      <td>None</td>\n      <td>None</td>\n      <td>C999955448</td>\n    </tr>\n    <tr>\n      <th>oldbalanceDest</th>\n      <td>8213</td>\n      <td>544249.6190746377</td>\n      <td>3336420.9509249586</td>\n      <td>0.0</td>\n      <td>0.0</td>\n      <td>0.0</td>\n      <td>147582.41</td>\n      <td>2.3623051682E8</td>\n    </tr>\n    <tr>\n      <th>newbalanceDest</th>\n      <td>8213</td>\n      <td>1279707.6171459865</td>\n      <td>3908816.533815755</td>\n      <td>0.0</td>\n      <td>0.0</td>\n      <td>4555.92</td>\n      <td>1057953.31</td>\n      <td>2.3672649466E8</td>\n    </tr>\n    <tr>\n      <th>isFraud</th>\n      <td>8213</td>\n      <td>1.0</td>\n      <td>0.0</td>\n      <td>1</td>\n      <td>1</td>\n      <td>1</td>\n      <td>1</td>\n      <td>1</td>\n    </tr>\n    <tr>\n      <th>isFlaggedFraud</th>\n      <td>8213</td>\n      <td>0.0019481310118105442</td>\n      <td>0.044097307911070686</td>\n      <td>0</td>\n      <td>0</td>\n      <td>0</td>\n      <td>0</td>\n      <td>1</td>\n    </tr>\n  </tbody>\n</table>\n</div>"
     },
     "execution_count": 14,
     "metadata": {},
     "output_type": "execute_result"
    }
   ],
   "source": [
    "fraud_df.summary().toPandas().T"
   ],
   "metadata": {
    "collapsed": false,
    "pycharm": {
     "name": "#%%\n"
    }
   }
  },
  {
   "cell_type": "markdown",
   "source": [
    "El importe de la transferencia fraudulenta media es de 1.467.967 con una desviación típica de 2.404.252. Podemos ver que hay bastante variabilidad en cuanto al importe de las transferencias fraudulentas."
   ],
   "metadata": {
    "collapsed": false,
    "pycharm": {
     "name": "#%% md\n"
    }
   }
  },
  {
   "cell_type": "code",
   "execution_count": 15,
   "outputs": [
    {
     "name": "stderr",
     "output_type": "stream",
     "text": [
      "                                                                                \r"
     ]
    },
    {
     "name": "stdout",
     "output_type": "stream",
     "text": [
      "+--------+-----+\n",
      "|    type|count|\n",
      "+--------+-----+\n",
      "|TRANSFER| 4097|\n",
      "|CASH_OUT| 4116|\n",
      "+--------+-----+\n",
      "\n"
     ]
    }
   ],
   "source": [
    "fraud_df.groupby(\"type\").count().show()"
   ],
   "metadata": {
    "collapsed": false,
    "pycharm": {
     "name": "#%%\n"
    }
   }
  },
  {
   "cell_type": "markdown",
   "source": [
    "Respecto al tipo de movimiento, podemos observar que solo hay 2 tipos que son fraudulentos."
   ],
   "metadata": {
    "collapsed": false,
    "pycharm": {
     "name": "#%% md\n"
    }
   }
  },
  {
   "cell_type": "code",
   "execution_count": 16,
   "outputs": [
    {
     "name": "stderr",
     "output_type": "stream",
     "text": [
      "                                                                                \r"
     ]
    },
    {
     "data": {
      "text/plain": "8213"
     },
     "execution_count": 16,
     "metadata": {},
     "output_type": "execute_result"
    }
   ],
   "source": [
    "fraud_df.select(\"nameOrig\").distinct().count()"
   ],
   "metadata": {
    "collapsed": false,
    "pycharm": {
     "name": "#%%\n"
    }
   }
  },
  {
   "cell_type": "code",
   "execution_count": 17,
   "outputs": [
    {
     "name": "stderr",
     "output_type": "stream",
     "text": [
      "                                                                                \r"
     ]
    },
    {
     "data": {
      "text/plain": "8169"
     },
     "execution_count": 17,
     "metadata": {},
     "output_type": "execute_result"
    }
   ],
   "source": [
    "fraud_df.select(\"nameDest\").distinct().count()"
   ],
   "metadata": {
    "collapsed": false,
    "pycharm": {
     "name": "#%%\n"
    }
   }
  },
  {
   "cell_type": "markdown",
   "source": [
    "Asimismo podemos observar que hay 8.213 clientes estafados y 8.169 clientes que estafan."
   ],
   "metadata": {
    "collapsed": false,
    "pycharm": {
     "name": "#%% md\n"
    }
   }
  },
  {
   "cell_type": "code",
   "execution_count": 18,
   "outputs": [
    {
     "name": "stderr",
     "output_type": "stream",
     "text": [
      "<__array_function__ internals>:5: RuntimeWarning: Converting input from bool to <class 'numpy.uint8'> for compatibility.\n"
     ]
    },
    {
     "data": {
      "text/plain": "<Figure size 432x288 with 12 Axes>",
      "image/png": "[encoded data removed]"
     },
     "metadata": {
      "needs_background": "light"
     },
     "output_type": "display_data"
    }
   ],
   "source": [
    "plot_histogram(fraud_df)"
   ],
   "metadata": {
    "collapsed": false,
    "pycharm": {
     "name": "#%%\n"
    }
   }
  },
  {
   "cell_type": "markdown",
   "source": [
    "Podemos ver que la distribución de la variable `step` es uniforme, por lo que quiere decir que las transacciones fraudulentas ocurren uniformemente a lo largo del tiempo.\n",
    "\n",
    "Por otro lado, podemos ver que las transacciones fraudulentas son entre cuentas de clientes y no de comerciantes, ya que no hay valores \"1\" en la columna `isMerchant`."
   ],
   "metadata": {
    "collapsed": false,
    "pycharm": {
     "name": "#%% md\n"
    }
   }
  },
  {
   "cell_type": "markdown",
   "source": [
    "Los tipos de movimientos donde se producen fraude son en retiradas de efectivo y transferencias. Además, tienen una proporción similar de operaciones fraudulentas."
   ],
   "metadata": {
    "collapsed": false,
    "pycharm": {
     "name": "#%% md\n"
    }
   }
  },
  {
   "cell_type": "code",
   "execution_count": 19,
   "outputs": [
    {
     "name": "stdout",
     "output_type": "stream",
     "text": [
      "+--------------+-----+\n",
      "|isFlaggedFraud|count|\n",
      "+--------------+-----+\n",
      "|             0| 8197|\n",
      "|             1|   16|\n",
      "+--------------+-----+\n",
      "\n"
     ]
    }
   ],
   "source": [
    "fraud_df.groupby(\"isFlaggedFraud\").count().show()"
   ],
   "metadata": {
    "collapsed": false,
    "pycharm": {
     "name": "#%%\n"
    }
   }
  },
  {
   "cell_type": "markdown",
   "source": [
    "Con respecto a la columna `isFlaggedFraud` tiene pocos registros cuyo valor sea informado frente al grueso de transferencias fraudulentas y, por tanto, va a aportar poco al modelo. Lo mejor sería descartarla."
   ],
   "metadata": {
    "collapsed": false,
    "pycharm": {
     "name": "#%% md\n"
    }
   }
  },
  {
   "cell_type": "code",
   "execution_count": 20,
   "outputs": [
    {
     "name": "stderr",
     "output_type": "stream",
     "text": [
      "                                                                                \r"
     ]
    },
    {
     "data": {
      "text/plain": "<AxesSubplot:>"
     },
     "execution_count": 20,
     "metadata": {},
     "output_type": "execute_result"
    },
    {
     "data": {
      "text/plain": "<Figure size 1152x360 with 1 Axes>",
      "image/png": "[encoded data removed]"
     },
     "metadata": {
      "needs_background": "light"
     },
     "output_type": "display_data"
    }
   ],
   "source": [
    "plt.figure(figsize=(16, 5))\n",
    "sns.boxplot(data=fraud_df.toPandas(), orient=\"h\")"
   ],
   "metadata": {
    "collapsed": false,
    "pycharm": {
     "name": "#%%\n"
    }
   }
  },
  {
   "cell_type": "markdown",
   "source": [
    "Del boxplot podemos observar que hay muchos outliers en las columnas de importe de transferencias y de balances antes y despues de la transferencia. Sin embargo, son datos que no podemos quitar, ya que son datos relevantes para el modelo que vamos a desarrollar."
   ],
   "metadata": {
    "collapsed": false,
    "pycharm": {
     "name": "#%% md\n"
    }
   }
  },
  {
   "cell_type": "code",
   "execution_count": 21,
   "outputs": [
    {
     "name": "stderr",
     "output_type": "stream",
     "text": [
      "                                                                                \r"
     ]
    },
    {
     "data": {
      "text/plain": "                      0                   1                   2            3  \\\nsummary           count                mean              stddev          min   \nstep            6354407  243.23566306029815   142.1401944921965            1   \ntype            6354407                None                None      CASH_IN   \namount          6354407  178197.04172739814   596236.9813472016         0.01   \nnameOrig        6354407                None                None  C1000000639   \noldbalanceOrg   6354407   832828.7117272562  2887144.0303329905          0.0   \nnewbalanceOrig  6354407   855970.2281087907  2924986.9646495897          0.0   \nnameDest        6354407                None                None  C1000004082   \noldbalanceDest  6354407  1101420.8745694289  3399201.7933785026          0.0   \nnewbalanceDest  6354407  1224925.6845633048   3673815.709922623          0.0   \nisFraud         6354407                 0.0                 0.0            0   \nisFlaggedFraud  6354407                 0.0                 0.0            0   \n\n                       4          5           6               7  \nsummary              25%        50%         75%             max  \nstep                 156        239         334             718  \ntype                None       None        None        TRANSFER  \namount          13360.27   74670.06   208340.35   9.244551664E7  \nnameOrig            None       None        None      C999999784  \noldbalanceOrg        0.0   14066.57    106923.0    4.38188553E7  \nnewbalanceOrig       0.0        0.0   144604.71   4.368661633E7  \nnameDest            None       None        None      M999999784  \noldbalanceDest       0.0   133146.0   944231.24  3.5601588935E8  \nnewbalanceDest       0.0  214961.26  1111724.08  3.5617927892E8  \nisFraud                0          0           0               0  \nisFlaggedFraud         0          0           0               0  ",
      "text/html": "<div>\n<style scoped>\n    .dataframe tbody tr th:only-of-type {\n        vertical-align: middle;\n    }\n\n    .dataframe tbody tr th {\n        vertical-align: top;\n    }\n\n    .dataframe thead th {\n        text-align: right;\n    }\n</style>\n<table border=\"1\" class=\"dataframe\">\n  <thead>\n    <tr style=\"text-align: right;\">\n      <th></th>\n      <th>0</th>\n      <th>1</th>\n      <th>2</th>\n      <th>3</th>\n      <th>4</th>\n      <th>5</th>\n      <th>6</th>\n      <th>7</th>\n    </tr>\n  </thead>\n  <tbody>\n    <tr>\n      <th>summary</th>\n      <td>count</td>\n      <td>mean</td>\n      <td>stddev</td>\n      <td>min</td>\n      <td>25%</td>\n      <td>50%</td>\n      <td>75%</td>\n      <td>max</td>\n    </tr>\n    <tr>\n      <th>step</th>\n      <td>6354407</td>\n      <td>243.23566306029815</td>\n      <td>142.1401944921965</td>\n      <td>1</td>\n      <td>156</td>\n      <td>239</td>\n      <td>334</td>\n      <td>718</td>\n    </tr>\n    <tr>\n      <th>type</th>\n      <td>6354407</td>\n      <td>None</td>\n      <td>None</td>\n      <td>CASH_IN</td>\n      <td>None</td>\n      <td>None</td>\n      <td>None</td>\n      <td>TRANSFER</td>\n    </tr>\n    <tr>\n      <th>amount</th>\n      <td>6354407</td>\n      <td>178197.04172739814</td>\n      <td>596236.9813472016</td>\n      <td>0.01</td>\n      <td>13360.27</td>\n      <td>74670.06</td>\n      <td>208340.35</td>\n      <td>9.244551664E7</td>\n    </tr>\n    <tr>\n      <th>nameOrig</th>\n      <td>6354407</td>\n      <td>None</td>\n      <td>None</td>\n      <td>C1000000639</td>\n      <td>None</td>\n      <td>None</td>\n      <td>None</td>\n      <td>C999999784</td>\n    </tr>\n    <tr>\n      <th>oldbalanceOrg</th>\n      <td>6354407</td>\n      <td>832828.7117272562</td>\n      <td>2887144.0303329905</td>\n      <td>0.0</td>\n      <td>0.0</td>\n      <td>14066.57</td>\n      <td>106923.0</td>\n      <td>4.38188553E7</td>\n    </tr>\n    <tr>\n      <th>newbalanceOrig</th>\n      <td>6354407</td>\n      <td>855970.2281087907</td>\n      <td>2924986.9646495897</td>\n      <td>0.0</td>\n      <td>0.0</td>\n      <td>0.0</td>\n      <td>144604.71</td>\n      <td>4.368661633E7</td>\n    </tr>\n    <tr>\n      <th>nameDest</th>\n      <td>6354407</td>\n      <td>None</td>\n      <td>None</td>\n      <td>C1000004082</td>\n      <td>None</td>\n      <td>None</td>\n      <td>None</td>\n      <td>M999999784</td>\n    </tr>\n    <tr>\n      <th>oldbalanceDest</th>\n      <td>6354407</td>\n      <td>1101420.8745694289</td>\n      <td>3399201.7933785026</td>\n      <td>0.0</td>\n      <td>0.0</td>\n      <td>133146.0</td>\n      <td>944231.24</td>\n      <td>3.5601588935E8</td>\n    </tr>\n    <tr>\n      <th>newbalanceDest</th>\n      <td>6354407</td>\n      <td>1224925.6845633048</td>\n      <td>3673815.709922623</td>\n      <td>0.0</td>\n      <td>0.0</td>\n      <td>214961.26</td>\n      <td>1111724.08</td>\n      <td>3.5617927892E8</td>\n    </tr>\n    <tr>\n      <th>isFraud</th>\n      <td>6354407</td>\n      <td>0.0</td>\n      <td>0.0</td>\n      <td>0</td>\n      <td>0</td>\n      <td>0</td>\n      <td>0</td>\n      <td>0</td>\n    </tr>\n    <tr>\n      <th>isFlaggedFraud</th>\n      <td>6354407</td>\n      <td>0.0</td>\n      <td>0.0</td>\n      <td>0</td>\n      <td>0</td>\n      <td>0</td>\n      <td>0</td>\n      <td>0</td>\n    </tr>\n  </tbody>\n</table>\n</div>"
     },
     "execution_count": 21,
     "metadata": {},
     "output_type": "execute_result"
    }
   ],
   "source": [
    "no_fraud_df.summary().toPandas().T"
   ],
   "metadata": {
    "collapsed": false,
    "pycharm": {
     "name": "#%%\n"
    }
   }
  },
  {
   "cell_type": "code",
   "execution_count": 22,
   "outputs": [
    {
     "name": "stderr",
     "output_type": "stream",
     "text": [
      "                                                                                \r"
     ]
    },
    {
     "data": {
      "text/plain": "<Figure size 432x288 with 12 Axes>",
      "image/png": "[encoded data removed]"
     },
     "metadata": {
      "needs_background": "light"
     },
     "output_type": "display_data"
    }
   ],
   "source": [
    "plot_histogram(no_fraud_df)"
   ],
   "metadata": {
    "collapsed": false,
    "pycharm": {
     "name": "#%%\n"
    }
   }
  },
  {
   "cell_type": "markdown",
   "source": [
    "Es curioso ver como el grueso de transferencias se realizan en las primeras 400 horas (aproximadamente).\n",
    "\n",
    "Vemos como ninguna de las transferencias lícitas esta marcada en la columna `isFlaggedFraud`, por lo que confirma el hecho de que va a aportar poco al modelo.\n",
    "\n",
    "Tambien observamos como hay transferencias lícitas tanto a clientes como a comerciantes."
   ],
   "metadata": {
    "collapsed": false,
    "pycharm": {
     "name": "#%% md\n"
    }
   }
  },
  {
   "cell_type": "code",
   "execution_count": 23,
   "outputs": [
    {
     "name": "stderr",
     "output_type": "stream",
     "text": [
      "22/05/22 19:38:55 WARN InstanceBuilder$NativeBLAS: Failed to load implementation from:dev.ludovic.netlib.blas.JNIBLAS\n",
      "22/05/22 19:38:55 WARN InstanceBuilder$NativeBLAS: Failed to load implementation from:dev.ludovic.netlib.blas.ForeignLinkerBLAS\n",
      "/opt/anaconda3/envs/tfm/lib/python3.8/site-packages/pyspark/sql/context.py:125: FutureWarning: Deprecated in 3.0.0. Use SparkSession.builder.getOrCreate() instead.\n",
      "  warnings.warn(\n"
     ]
    }
   ],
   "source": [
    "numeric_columns = [x for x in df.columns if df.schema[x].dataType.typeName() != \"string\"]\n",
    "\n",
    "assembler = VectorAssembler(inputCols=numeric_columns, outputCol=\"features\")\n",
    "df_vector = assembler.transform(df).select(\"features\")\n",
    "\n",
    "matrix = Correlation.corr(df_vector, \"features\")\n",
    "\n",
    "corr_matrix = matrix.collect()[0][matrix.columns[0]].toArray()"
   ],
   "metadata": {
    "collapsed": false,
    "pycharm": {
     "name": "#%%\n"
    }
   }
  },
  {
   "cell_type": "code",
   "execution_count": 24,
   "outputs": [
    {
     "data": {
      "text/plain": "<Figure size 432x288 with 2 Axes>",
      "image/png": "[encoded data removed]"
     },
     "metadata": {
      "needs_background": "light"
     },
     "output_type": "display_data"
    }
   ],
   "source": [
    "sns.heatmap(corr_matrix, cmap=\"viridis\", annot=True)\n",
    "plt.title('Matriz de correlación')\n",
    "plt.show()"
   ],
   "metadata": {
    "collapsed": false,
    "pycharm": {
     "name": "#%%\n"
    }
   }
  },
  {
   "cell_type": "markdown",
   "source": [
    "De nuestra matriz de correlaciones podemos hacer algunas observaciones:\n",
    "\n",
    "* Existe una correlación muy fuerte entre la información del saldo inicial y final de las cuentas de los clientes de origen y de destino, lo cual era de esperar. Tal vez esta información sea redundante en nuestro modelo (oldbalanceOrg/newbalanceOrig y oldbalanceDest/newbalanceDest)\n",
    "* El resto de variables no parecen tener correlaciones relevantes."
   ],
   "metadata": {
    "collapsed": false,
    "pycharm": {
     "name": "#%% md\n"
    }
   }
  },
  {
   "cell_type": "markdown",
   "source": [
    "# Conclusiones del analisis de datos:\n",
    "\n",
    "* El dataset esta muy desbalanceado. 6.354.407 de registros lícitos y 8.213 registros fraudulentos. Evidentemente este desbalanceo hay que tenerlo en cuenta en fases posteriores para utilizar las tecnicas del oversampling o subsampling y para utilizar métricas de evaluación del modelo no sensibles a clases desbalanceadas.\n",
    "* La columna `isFlaggedFraud` se debería eliminar pues hay muy pocos registros que la tengan activa y, por tanto, va a aportar poco al modelo final.\n",
    "* Existe una correlación muy fuerte entre la información del saldo inicial y final de las cuentas de los clientes de origen y de destino. Sería interesante ver si el modelo mejora el rendimiento eliminando una de ellas."
   ],
   "metadata": {
    "collapsed": false,
    "pycharm": {
     "name": "#%% md\n"
    }
   }
  }
 ],
 "metadata": {
  "kernelspec": {
   "display_name": "Python 3",
   "language": "python",
   "name": "python3"
  },
  "language_info": {
   "codemirror_mode": {
    "name": "ipython",
    "version": 2
   },
   "file_extension": ".py",
   "mimetype": "text/x-python",
   "name": "python",
   "nbconvert_exporter": "python",
   "pygments_lexer": "ipython2",
   "version": "2.7.6"
  }
 },
 "nbformat": 4,
 "nbformat_minor": 0
}